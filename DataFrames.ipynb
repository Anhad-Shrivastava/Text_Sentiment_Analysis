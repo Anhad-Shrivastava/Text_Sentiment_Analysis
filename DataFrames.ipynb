{
 "cells": [
  {
   "cell_type": "code",
   "execution_count": 2,
   "id": "ab32e0a4",
   "metadata": {},
   "outputs": [],
   "source": [
    "import os\n",
    "import regex\n",
    "import openpyxl\n",
    "import pandas as pd\n",
    "from openpyxl import workbook"
   ]
  },
  {
   "cell_type": "code",
   "execution_count": 2,
   "id": "4001f1ec",
   "metadata": {},
   "outputs": [],
   "source": [
    "wb=openpyxl.load_workbook(\"LoughranMcDonald_MasterDictionary_2018.xlsx\")\n",
    "ws=wb.active"
   ]
  },
  {
   "cell_type": "code",
   "execution_count": 3,
   "id": "0b91afdb",
   "metadata": {},
   "outputs": [],
   "source": [
    "#extract list of negative and positive words\n",
    "#store them in negative and positive dictionary respectively\n",
    "#create dataframes for the lists\n",
    "#save dataframes as excel files"
   ]
  },
  {
   "cell_type": "code",
   "execution_count": 7,
   "id": "4da74353",
   "metadata": {},
   "outputs": [],
   "source": [
    "pos_list, neg_list=[],[]\n",
    "for r in range(2,ws.max_row+1):\n",
    "    word=ws.cell(row=r,column=1).value\n",
    "    if ws.cell(row=r,column=8).value!=0:\n",
    "        neg_list.append(word)\n",
    "    if ws.cell(row=r,column=9).value!=0:\n",
    "        pos_list.append(word)\n",
    "        \n",
    "neg_df=pd.DataFrame({'word':neg_list})\n",
    "pos_df=pd.DataFrame({'word':pos_list})\n",
    "\n",
    "neg_writer=pd.ExcelWriter(\"negative_dictionary.xlsx\",engine='openpyxl')\n",
    "pos_writer=pd.ExcelWriter(\"positive_dictionary.xlsx\",engine='openpyxl')\n",
    "\n",
    "neg_df.to_excel(neg_writer,index=False)\n",
    "pos_df.to_excel(pos_writer,index=False)\n",
    "\n",
    "pos_writer.save()\n",
    "neg_writer.save()"
   ]
  },
  {
   "cell_type": "code",
   "execution_count": null,
   "id": "5e5a23ed",
   "metadata": {},
   "outputs": [],
   "source": []
  },
  {
   "cell_type": "code",
   "execution_count": null,
   "id": "4ad93763",
   "metadata": {},
   "outputs": [],
   "source": [
    "#df=pd.DataFrame(list)"
   ]
  }
 ],
 "metadata": {
  "kernelspec": {
   "display_name": "Python 3",
   "language": "python",
   "name": "python3"
  },
  "language_info": {
   "codemirror_mode": {
    "name": "ipython",
    "version": 3
   },
   "file_extension": ".py",
   "mimetype": "text/x-python",
   "name": "python",
   "nbconvert_exporter": "python",
   "pygments_lexer": "ipython3",
   "version": "3.9.5"
  }
 },
 "nbformat": 4,
 "nbformat_minor": 5
}
